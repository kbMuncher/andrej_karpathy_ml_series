import math
import numpy as np
import matplotlib.pyplot as plt 
get_ipython().run_line_magic("matplotlib", " inline ")


def f(x):
    return 3*x**2 - 4*x +5


f(3)


xs = np.arange(-5,5,0.25) # -5 to 5 not including 5 with a step 0.25
xs


f(xs)


plt.plot(xs,f(xs))


h=0.001
x=3.0
(f(x+h)-f(x))/h


# more complex
a=2.0
b=-3.0
c=10.0
d = a*b+c
print(d)


# now deriavtive with respect to a 
h=0.0001
a=a+h
d1 = a*b+c
print(f'Og:{d}, D1:{d1}, slop = {(d1-d)/h}')


class Value:
    def __init__(self,data,_child=()):
        self.data = data
        self.prev = set(_child)
    def __repr__(self):
        return f"Value(data={self.data})"
    def __add__ (self,other):
        out = Value(self.data + other.data ,(self.data ,other.data))
        return out
    def __mul__(self,other):
        out = Value(self.data *other.data,(self.data ,other.data))
        return out



a= Value(2.0)
b= Value(-3)
c= Value(10.0)
d= a*b +c
d


d.prev



